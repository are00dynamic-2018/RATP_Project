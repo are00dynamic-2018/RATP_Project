{
 "cells": [
  {
   "cell_type": "code",
   "execution_count": null,
   "metadata": {
    "collapsed": true
   },
   "outputs": [],
   "source": [
    "\n",
    "nombredestation=20\n",
    "L_dest_gare=[]\n",
    "L_dest_train=[]\n",
    "L_gare=[]\n",
    "L_train=[]\n",
    "\n",
    "\n",
    "t=0\n",
    "def simulation(L_gare,L_train):\n",
    "    for i in range(10):\n",
    "        a=np.randomchoice(len(L_gare)-1)\n",
    "        L_gare[a]+=1\n",
    "        L_dest_gare[a].append(np.randomchoice(len(L_gare)-a-1)+a)\n",
    "    y+=1\n",
    "    if(y==300):\n",
    "        y=0\n",
    "        L_train.append([t,0])\n",
    "    \n",
    "    for i in len(L_train):\n",
    "        if((t-L_train[i][0])%ta==0):\n",
    "            x=(t-L_train[i][0])//ta\n",
    "            c = 0\n",
    "            for k in range(len(L_train)):\n",
    "                if L_train[k][0] == t - ta * x:\n",
    "                    c = k\n",
    "            for i in range(len(L_dest_train[k])):\n",
    "                if(L_dest_train[k][i]==x):\n",
    "                    \n",
    "                    \n",
    "            if(L_gare[x]<cm-L_train[i][1]):\n",
    "                L_train[i][1]=L_train[i][1]+L_gare[x]\n",
    "                for j in range(len(L_dest_gare[x]))\n",
    "                    L_dest_train[x].append(L_dest_gare[x][j])\n",
    "                L_dest_gare[x]=[]\n",
    "                L_gare[x]=0\n",
    "            else:\n",
    "                L_gare[x]=L_gare[x]-(cm-L_train[i][1])\n",
    "                for j in range(L_gare[x]-(cm-L_train[i][1]))\n",
    "                    L_dest_train[x].append(L_dest_gare[x][0])\n",
    "                    dell L_dest_gare[x][0]\n",
    "                L_train[i][1]=cm\n",
    "            \n",
    "    for i in len(L_train):\n",
    "        \n",
    "    t=t+1\n",
    "    \n",
    "    \n",
    "nbstep=3600\n",
    "for i in nbstep:\n",
    "    simulation(L_gare,L_train)\n",
    "    "
   ]
  }
 ],
 "metadata": {
  "kernelspec": {
   "display_name": "Python 3",
   "language": "python",
   "name": "python3"
  },
  "language_info": {
   "codemirror_mode": {
    "name": "ipython",
    "version": 3
   },
   "file_extension": ".py",
   "mimetype": "text/x-python",
   "name": "python",
   "nbconvert_exporter": "python",
   "pygments_lexer": "ipython3",
   "version": "3.4.2"
  }
 },
 "nbformat": 4,
 "nbformat_minor": 0
}
