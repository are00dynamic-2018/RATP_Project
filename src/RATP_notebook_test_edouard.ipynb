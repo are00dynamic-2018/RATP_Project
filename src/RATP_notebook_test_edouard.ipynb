{
 "cells": [
  {
   "cell_type": "markdown",
   "metadata": {},
   "source": [
    "# ETUDE DYNAMYQUE DES METROS DE PARIS"
   ]
  },
  {
   "cell_type": "markdown",
   "metadata": {
    "collapsed": true
   },
   "source": [
    "## Test simulation Ed ligne M3b"
   ]
  },
  {
   "cell_type": "code",
   "execution_count": 1,
   "metadata": {
    "collapsed": false
   },
   "outputs": [],
   "source": [
    "%matplotlib inline\n",
    "import os\n",
    "import numpy as np\n",
    "from LibMetroIti_NB import *\n",
    "\n",
    "if os.name == 'nt':\n",
    "    L=listeMetroCsv(\".\\\\data\\\\liste stations.csv\") #list([ligne,station,num_station])\n",
    "    Lex=listeMetroCsvStation(\".\\\\data\\\\liste stations exceptions-fourche2.csv\") #list([ligne,station,num_station])\n",
    "    Lf=listeMetroCsvStation(\".\\\\data\\\\liste stations fourche1.csv\") #list([ligne,station,num_station])\n",
    "    Linfos=listeMetroCsvInfos(\".\\\\data\\\\infos_metro.csv\") #list([ligne,nb_arrets,temps de trajet, capacité rame])\n",
    "else:\n",
    "    L=listeMetroCsv(\"./data/liste stations.csv\") #list([ligne,station,num_station])\n",
    "    Lex=listeMetroCsvStation(\"./data/liste stations exceptions-fourche2.csv\") #list([ligne,station,num_station])\n",
    "    Lf=listeMetroCsvStation(\"./data/liste stations fourche1.csv\") #list([ligne,station,num_station])\n",
    "    Linfos=listeMetroCsvInfos(\"./data/infos_metro.csv\") #list([ligne,nb_arrets,temps de trajet, capacité rame])\n",
    "\n",
    "dict_Infos_metro=dictMetroCsvInfos(Linfos)"
   ]
  },
  {
   "cell_type": "code",
   "execution_count": 6,
   "metadata": {
    "collapsed": false
   },
   "outputs": [
    {
     "name": "stdout",
     "output_type": "stream",
     "text": [
      "[['M3b', 'PORTE DES LILAS', '1'], ['M3b', 'SAINT-FARGEAU', '2'], ['M3b', 'PELLEPORT', '3'], ['M3b', 'GAMBETTA', '4']]\n",
      "[['M3', 'PONT DE LEVALLOIS-BECON', '1'], ['M3', 'ANATOLE FRANCE', '2'], ['M3', 'LOUISE MICHEL', '3'], ['M3', 'PORTE DE CHAMPERRET', '4'], ['M3', 'PEREIRE-LEVALLOIS', '5'], ['M3', 'WAGRAM', '6'], ['M3', 'MALESHERBES', '7'], ['M3', 'VILLIERS', '8'], ['M3', 'EUROPE', '9'], ['M3', 'SAINT-LAZARE', '10'], ['M3', 'HAVRE-CAUMARTIN', '11'], ['M3', 'OPERA', '12'], ['M3', 'QUATRE SEPTEMBRE', '13'], ['M3', 'BOURSE', '14'], ['M3', 'SENTIER', '15'], ['M3', 'REAUMUR-SEBASTOPOL', '16'], ['M3', 'ARTS ET METIERS', '17'], ['M3', 'TEMPLE', '18'], ['M3', 'REPUBLIQUE', '19'], ['M3', 'PARMENTIER', '20'], ['M3', 'SAINT-MAUR', '21'], ['M3', 'PERE LACHAISE', '22'], ['M3', 'GAMBETTA', '23'], ['M3', 'PORTE DE BAGNOLET', '24'], ['M3', 'GALLIENI (PARC DE BAGNOLET)', '25']]\n"
     ]
    }
   ],
   "source": [
    "L_M3b=list()\n",
    "for var in L:\n",
    "    if var[0]==\"M3b\":\n",
    "        L_M3b.append(var)\n",
    "print(L_M3b)\n",
    "\n",
    "L_M3=list()\n",
    "for var in L:\n",
    "    if var[0]==\"M3\":\n",
    "        L_M3.append(var)\n",
    "print(L_M3)  "
   ]
  },
  {
   "cell_type": "code",
   "execution_count": 3,
   "metadata": {
    "collapsed": false,
    "scrolled": true
   },
   "outputs": [],
   "source": [
    "#paramètres\n",
    "temps_max= 3*4*60 #3 fois * 4 mins * 60 sec\n",
    "nb_utilisateurs = 10"
   ]
  },
  {
   "cell_type": "code",
   "execution_count": 4,
   "metadata": {
    "collapsed": false
   },
   "outputs": [
    {
     "name": "stdout",
     "output_type": "stream",
     "text": [
      "['JUSSIEU', 'M10', 'CHATELET', 'M10', \"PORTE D'ORLEAN\", 'M4']\n"
     ]
    }
   ],
   "source": [
    "def simply_iti(station_depart,ligne_depart,station_arrive,ligne_arrive):\n",
    "    code = calcul_itineraire(station_depart,ligne_depart,station_arrive,ligne_arrive)\n",
    "    if type(code)==type(0):\n",
    "        return [station_depart,ligne_depart,station_arrive,ligne_depart]\n",
    "    else:\n",
    "        l=code.split(\".\")\n",
    "        if l[4]==\"\":\n",
    "            return [station_depart,ligne_depart,station_arrive,ligne_depart]\n",
    "        elif str(l[1])==station_depart:\n",
    "            return [station_depart,ligne_depart,str(l[3]),ligne_depart,station_arrive,ligne_arrive]\n",
    "        else:\n",
    "            return [station_depart,ligne_depart,str(l[1]),ligne_depart,str(l[3]),str(l[4]),station_arrive,ligne_arrive]\n",
    "print(simply_iti(\"JUSSIEU\",\"M10\",\"PORTE D'ORLEAN\",\"M4\"))"
   ]
  },
  {
   "cell_type": "code",
   "execution_count": 31,
   "metadata": {
    "collapsed": false
   },
   "outputs": [],
   "source": [
    "def calcul_temps(iti_s):\n",
    "    if len(iti_s)==8:\n",
    "        return calcul_distance(iti_s[0],iti_s[1],iti_s[2],iti_s[3])*int(dict_Infos_metro[iti_s[1]][0][0])+calcul_distance(iti_s[2],iti_s[5],iti_s[4],iti_s[5])*int(dict_Infos_metro[iti_s[5]][0][0])+calcul_distance(iti_s[4],iti_s[7],iti_s[6],iti_s[7])*int(dict_Infos_metro[iti_s[7]][0][0])\n",
    "    elif len(iti_s)==6:\n",
    "        return calcul_distance(iti_s[0],iti_s[1],iti_s[2],iti_s[3])*int(dict_Infos_metro[iti_s[1]][0][0])+calcul_distance(iti_s[2],iti_s[5],iti_s[4],iti_s[5])*int(dict_Infos_metro[iti_s[5]][0][0])\n",
    "    elif len(iti_s)==4:\n",
    "         return calcul_distance(iti_s[0],iti_s[1],iti_s[2],iti_s[3])*int(dict_Infos_metro[iti_s[1]][0][0])"
   ]
  },
  {
   "cell_type": "code",
   "execution_count": 90,
   "metadata": {
    "collapsed": false
   },
   "outputs": [
    {
     "data": {
      "text/plain": [
       "[[1, ['GAMBETTA', 'M3', 'SAINT-FARGEAU', 'M3'], 0, 6900],\n",
       " [2, ['GAMBETTA', 'M3b', 'PELLEPORT', 'M3b'], 0, 360]]"
      ]
     },
     "execution_count": 90,
     "metadata": {},
     "output_type": "execute_result"
    }
   ],
   "source": [
    "def distrib_itineraire(nb_utilisateurs):\n",
    "    base_utilisateurs=[]\n",
    "    for i in range(1,nb_utilisateurs+1,1):\n",
    "        x=0\n",
    "        y=0\n",
    "        while (x==y):\n",
    "            x=L_M3b[np.random.choice(len(L_M3b))][1]\n",
    "            y=L_M3b[np.random.choice(len(L_M3b))][1]\n",
    "        xL,yL=\"\",\"\"\n",
    "        for var in L:\n",
    "            if var[1]==x:\n",
    "                xL=var[0]\n",
    "            elif var[1]==y:\n",
    "                yL=var[0]\n",
    "            elif xL!=\"\" and yL!=\"\":\n",
    "                break\n",
    "        base_utilisateurs.append([i,simply_iti(x,xL,y,yL),0,calcul_temps(simply_iti(x,xL,y,yL))])\n",
    "        #[num_utilisateur,[depart, chagement_1, changement_2, arrivee],temps_spawn, temps_total_trajet]\n",
    "    return base_utilisateurs\n",
    "distrib_itineraire(2)"
   ]
  },
  {
   "cell_type": "code",
   "execution_count": 43,
   "metadata": {
    "collapsed": false,
    "scrolled": false
   },
   "outputs": [
    {
     "name": "stdout",
     "output_type": "stream",
     "text": [
      "[['PORTE DES LILAS', ['M3b', 'M11'], 0], ['SAINT-FARGEAU', ['M3b'], 0], ['PELLEPORT', ['M3b'], 0], ['GAMBETTA', ['M3b', 'M3'], 0]]\n"
     ]
    }
   ],
   "source": [
    "def initialisation_stations(L):\n",
    "    base_station=[\"init\"] #[[station,[lignes],nb d'utilisateur],...]\n",
    "    for station in L:\n",
    "        test=[]\n",
    "        for i in range(0,len(base_station),1):\n",
    "            if not (station[1] in base_station[i][0]):\n",
    "                test.append(1)\n",
    "            else:\n",
    "                test.append(0)\n",
    "        if not(0 in test):\n",
    "            base_station.append([station[1],[station[0]]+correspondance(station[1],station[0]),0])\n",
    "    return base_station[1:]\n",
    "\n",
    "print(initialisation_stations(L_M3b))"
   ]
  },
  {
   "cell_type": "code",
   "execution_count": 78,
   "metadata": {
    "collapsed": false,
    "scrolled": false
   },
   "outputs": [],
   "source": [
    "def update_utilisateurs_entrant(base_utilisateur,nouveaux_utilisateurs,t):\n",
    "    compteur=int(base_utilisateur[-1][0])\n",
    "    update_utilisateurs=[]\n",
    "    for i in range(1+compteur,nouveaux_utilisateurs+compteur+1,1):\n",
    "        x=0\n",
    "        y=0\n",
    "        while (x==y):\n",
    "            x=L_M3b[np.random.choice(len(L_M3b))][1]\n",
    "            y=L_M3b[np.random.choice(len(L_M3b))][1]\n",
    "        xL,yL=\"\",\"\"\n",
    "        for var in L:\n",
    "            if var[1]==x:\n",
    "                xL=var[0]\n",
    "            elif var[1]==y:\n",
    "                yL=var[0]\n",
    "            elif xL!=\"\" and yL!=\"\":\n",
    "                break   \n",
    "        update_utilisateurs.append([i,simply_iti(x,xL,y,yL),t,t+calcul_temps(simply_iti(x,xL,y,yL))])\n",
    "        #[num_utilisateur,[depart, chagement_1, changement_2, arrivee],temps_spawn, temps_total_trajet]\n",
    "    return base_utilisateur+update_utilisateurs"
   ]
  },
  {
   "cell_type": "code",
   "execution_count": 87,
   "metadata": {
    "collapsed": false,
    "scrolled": false
   },
   "outputs": [
    {
     "name": "stdout",
     "output_type": "stream",
     "text": [
      "[[['PORTE DES LILAS', ['M3b', 'M11'], 0], ['SAINT-FARGEAU', ['M3b'], 0], ['PELLEPORT', ['M3b'], 0], ['GAMBETTA', ['M3b', 'M3'], 0]], [['PORTE DES LILAS', ['M3b', 'M11'], 0], ['SAINT-FARGEAU', ['M3b'], 0], ['PELLEPORT', ['M3b'], 0], ['GAMBETTA', ['M3b', 'M3'], 0]], [['PORTE DES LILAS', ['M3b', 'M11'], 0], ['SAINT-FARGEAU', ['M3b'], 0], ['PELLEPORT', ['M3b'], 0], ['GAMBETTA', ['M3b', 'M3'], 0]], [['PORTE DES LILAS', ['M3b', 'M11'], 0], ['SAINT-FARGEAU', ['M3b'], 0], ['PELLEPORT', ['M3b'], 0], ['GAMBETTA', ['M3b', 'M3'], 0]], [['PORTE DES LILAS', ['M3b', 'M11'], 0], ['SAINT-FARGEAU', ['M3b'], 0], ['PELLEPORT', ['M3b'], 0], ['GAMBETTA', ['M3b', 'M3'], 0]], [['PORTE DES LILAS', ['M3b', 'M11'], 0], ['SAINT-FARGEAU', ['M3b'], 0], ['PELLEPORT', ['M3b'], 0], ['GAMBETTA', ['M3b', 'M3'], 0]], [['PORTE DES LILAS', ['M3b', 'M11'], 0], ['SAINT-FARGEAU', ['M3b'], 0], ['PELLEPORT', ['M3b'], 0], ['GAMBETTA', ['M3b', 'M3'], 0]], [['PORTE DES LILAS', ['M3b', 'M11'], 0], ['SAINT-FARGEAU', ['M3b'], 0], ['PELLEPORT', ['M3b'], 0], ['GAMBETTA', ['M3b', 'M3'], 0]], [['PORTE DES LILAS', ['M3b', 'M11'], 0], ['SAINT-FARGEAU', ['M3b'], 0], ['PELLEPORT', ['M3b'], 0], ['GAMBETTA', ['M3b', 'M3'], 0]]]\n"
     ]
    }
   ],
   "source": [
    "def simulation(nb_utilisateur_init,nb_utilisateur_update,temps_max):\n",
    "    \"\"\"\n",
    "    version test du projet RATP\n",
    "    {nb_utilisateur_init -> int* personne qui rentrent dans le métro à t=0\n",
    "    nb_utilisateur_update -> int* personne qui rentrent dans le métro toutes les minutes\n",
    "    temps_max -> int* temps de la simualation}\n",
    "    \"\"\"\n",
    "    base_station=initialisation_stations(L_M3b)\n",
    "    time=[] #stockage des base_station par minute\n",
    "    list_vidage=list()\n",
    "    for t in range(0,temps_max+1,1):\n",
    "        if t==0:\n",
    "             base_utilisateur=distrib_itineraire(nb_utilisateur_init)\n",
    "        for utilisateur in base_utilisateur:\n",
    "            if t==utilisateur[3]:\n",
    "                for station in base_station:\n",
    "                    if station[0]==utilisateur[1][-2]:\n",
    "                        list_vidage.append(utilisateur)\n",
    "        \n",
    "        for var in list_vidage:\n",
    "            for i in range(0,len(var[1]),1):\n",
    "                for station in base_station:\n",
    "                    if var[1][i]==station:\n",
    "                        station[2]+=1\n",
    "            base_utilisateur.remove(var)\n",
    "        list_vidage.clear()\n",
    "        \n",
    "        if t%5==0:\n",
    "            base_utilisateur=update_utilisateurs_entrant(base_utilisateur,nb_utilisateur_update,t)\n",
    "        \n",
    "        if t%==0:\n",
    "            time.append(base_station)\n",
    "    return time\n",
    "    \n",
    "print(simulation(1,1,50000))\n",
    "\n"
   ]
  },
  {
   "cell_type": "code",
   "execution_count": 69,
   "metadata": {
    "collapsed": false
   },
   "outputs": [
    {
     "data": {
      "text/plain": [
       "12"
      ]
     },
     "execution_count": 69,
     "metadata": {},
     "output_type": "execute_result"
    }
   ],
   "source": [
    "2+int(distrib_itineraire(10)[-1][0])"
   ]
  },
  {
   "cell_type": "code",
   "execution_count": 77,
   "metadata": {
    "collapsed": false
   },
   "outputs": [
    {
     "name": "stdout",
     "output_type": "stream",
     "text": [
      "[[0, 'b'], [0, 'd']]\n"
     ]
    }
   ],
   "source": [
    "test=[[\"a\",\"b\"],[\"c\",\"d\"]]\n",
    "for var in test:\n",
    "    var[0]=0\n",
    "print(test)"
   ]
  },
  {
   "cell_type": "code",
   "execution_count": 54,
   "metadata": {
    "collapsed": false
   },
   "outputs": [],
   "source": [
    "from PIL import Image\n",
    "\n",
    "im=Image.open(\"C:\\\\Users\\\\Edouard\\\\Documents\\\\Python Scripts\\\\Projet ratp\\\\data\\\\logo-ratp.png\")\n",
    "im.show()"
   ]
  },
  {
   "cell_type": "markdown",
   "metadata": {},
   "source": [
    "# TODO\n",
    "\n",
    "distrib iti et update_uti\n",
    "régler porblème mauvaise attibution des lignes\n",
    "relire la simulation"
   ]
  },
  {
   "cell_type": "code",
   "execution_count": 3,
   "metadata": {
    "collapsed": false
   },
   "outputs": [
    {
     "data": {
      "text/plain": [
       "'ERROR : code incomplé'"
      ]
     },
     "execution_count": 3,
     "metadata": {},
     "output_type": "execute_result"
    }
   ],
   "source": [
    "listage_stations_itineraire(\"JUSSIEU\",\"M10\",\"PORTE D'ORLEAN\",\"M4\")"
   ]
  },
  {
   "cell_type": "code",
   "execution_count": null,
   "metadata": {
    "collapsed": false
   },
   "outputs": [],
   "source": []
  },
  {
   "cell_type": "code",
   "execution_count": null,
   "metadata": {
    "collapsed": true
   },
   "outputs": [],
   "source": []
  }
 ],
 "metadata": {
  "anaconda-cloud": {},
  "kernelspec": {
   "display_name": "Python [default]",
   "language": "python",
   "name": "python3"
  },
  "language_info": {
   "codemirror_mode": {
    "name": "ipython",
    "version": 3
   },
   "file_extension": ".py",
   "mimetype": "text/x-python",
   "name": "python",
   "nbconvert_exporter": "python",
   "pygments_lexer": "ipython3",
   "version": "3.5.2"
  }
 },
 "nbformat": 4,
 "nbformat_minor": 1
}
