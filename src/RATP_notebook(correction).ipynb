{
 "cells": [
  {
   "cell_type": "markdown",
   "metadata": {},
   "source": [
    "# ETUDE DYNAMYQUE DES METROS DE PARIS"
   ]
  },
  {
   "cell_type": "markdown",
   "metadata": {},
   "source": [
    "## Introduction"
   ]
  },
  {
   "cell_type": "markdown",
   "metadata": {},
   "source": [
    "Nous allons faire une étude sur le nombre de personne qui attentte a chaque métros.\n",
    "\n",
    "paramètres:\n",
    "\n",
    "* nb : nb de personne\n",
    "* ar : % de personne qui arrive \n",
    "* so : % de perssonne qui sorte de la gare à force d'atendre\n",
    "* ta : temps d'arriver du metro\n",
    "* cm : capacité du metro\n",
    "\n",
    "\n",
    "\n",
    "paramètres plus tard\n",
    "* temps pour une perssonne a rentré / sortir"
   ]
  },
  {
   "cell_type": "markdown",
   "metadata": {},
   "source": [
    "### Les importation"
   ]
  },
  {
   "cell_type": "code",
   "execution_count": null,
   "metadata": {
    "collapsed": true
   },
   "outputs": [],
   "source": [
    "%matplotlib inline\n",
    "\n",
    "from pylab import *\n",
    "\n",
    "import numpy as np\n",
    "import matplotlib\n",
    "import matplotlib.pyplot as plt"
   ]
  },
  {
   "cell_type": "code",
   "execution_count": null,
   "metadata": {
    "collapsed": true
   },
   "outputs": [],
   "source": [
    "#ligne;nom;niem_arret;\n",
    "ar = 0\n",
    "so = 0\n",
    "ta = 2\n",
    "cm = 0.5\n",
    "    "
   ]
  },
  {
   "cell_type": "markdown",
   "metadata": {},
   "source": [
    "# initialisation\n",
    "on va commencer par deux gares relier entre elles.  \n",
    "hypothèse :  \n",
    " * deplacement wagon instantané"
   ]
  },
  {
   "cell_type": "code",
   "execution_count": null,
   "metadata": {
    "collapsed": true
   },
   "outputs": [],
   "source": [
    "N = 100\n",
    "TMAX = 24*3600 + 1 # permet de reinitialiser le temps toute les 24h\n",
    "\n",
    "class Station:\n",
    "    def __init__(self, ar, so, name):\n",
    "        self.ar = ar # % d'arrivant dans la gare\n",
    "        self.so = so # % de partant dans la gare\n",
    "        self.nb = N # nombre de personne dans le metro\n",
    "        self.t = 0   # initialisatien du temps de la gare\n",
    "        self.ta = [] # temps entre chaque metro\n",
    "        self.cm = [] # capacité d'un metro\n",
    "        self.next_s = [] # la prochaine gare\n",
    "        self.name = name\n",
    "    \n",
    "    def update(self): # fonction qui actualise les donnés\n",
    "        if self.so >= np.random.choice(100):\n",
    "            n = np.random.choice(10)\n",
    "            if self.nb - n >= 0:\n",
    "                self.nb = self.nb - n\n",
    "            else:\n",
    "                self.nb = 0\n",
    "        if self.ar >= np.random.choice(100):\n",
    "            self.nb += np.random.choice(10)\n",
    "        self.t = (self.t + 1) % TMAX\n",
    "        for i in range(len(self.next_s)):\n",
    "            if self.t % self.ta[i] == 0: #si metro est arrive\n",
    "                if self.nb >= self.cm[i]: #si plus de monde que de place\n",
    "                    #regarde si voy est arriver si cest pas le cas tu rajoute dans next\n",
    "                    self.nb = self.nb - self.cm[i]\n",
    "                else: #plus de place\n",
    "                    self.nb = 0\n",
    "                \n",
    "    \n",
    "    def next_station(self, station, ta, cm):\n",
    "        self.next_s.append(station)\n",
    "        self.ta.append(ta)\n",
    "        self.cm.append(cm)"
   ]
  },
  {
   "cell_type": "code",
   "execution_count": null,
   "metadata": {
    "collapsed": true
   },
   "outputs": [],
   "source": [
    "nb_step = 24*3600 #temps de lanalyse\n",
    "\n",
    "cm = 700\n",
    "\n",
    "ar1 = 32\n",
    "so1 = 5\n",
    "ta1 = 10*60 + 0 #min * 60 + sec\n",
    "\n",
    "ar2 = 32\n",
    "so2 = 5\n",
    "ta2 = 10*60 + 0 #min * 60 + sec"
   ]
  },
  {
   "cell_type": "markdown",
   "metadata": {
    "collapsed": true
   },
   "source": [
    "## une simulation"
   ]
  },
  {
   "cell_type": "code",
   "execution_count": null,
   "metadata": {
    "collapsed": true
   },
   "outputs": [],
   "source": [
    "TIME_CAPT = 1 + 0 # temps ent chaque prise d'info sur le nombre de perssonne en min*60 + sec (le tous sera en sec) \n",
    "\n",
    "def simulation(L):\n",
    "    time = [] # liste qui represente le temps \n",
    "    nb_tot = []\n",
    "    nb_station = []\n",
    "    for t in range(nb_step):\n",
    "        for j in L:\n",
    "            j.update()\n",
    "        if t % TIME_CAPT == 0:\n",
    "            nb = 0\n",
    "            time.append(t)\n",
    "            k = 0\n",
    "            for j in L:\n",
    "                if k >= len(nb_station):\n",
    "                    nb_station.append([])\n",
    "                nb_station[k].append(j.nb)\n",
    "                nb += j.nb\n",
    "                k+=1\n",
    "            nb_tot.append(nb)\n",
    "    return (time, nb_tot, nb_station)\n",
    "\n",
    "\n",
    "    \n",
    "    "
   ]
  },
  {
   "cell_type": "code",
   "execution_count": null,
   "metadata": {
    "collapsed": true
   },
   "outputs": [],
   "source": [
    "def init(List):\n",
    "    List = []\n",
    "    List_Gare.append(Station(ar1, so1,\"gare 1\"))\n",
    "    List_Gare.append(Station(ar2, so2, \"gare 2\"))\n",
    "    List[0].next_station(List_Gare[1], ta1, cm)\n",
    "    List[1].next_station(List_Gare[0], ta2, cm)\n",
    "    return List"
   ]
  },
  {
   "cell_type": "code",
   "execution_count": null,
   "metadata": {
    "collapsed": true
   },
   "outputs": [],
   "source": [
    "def dessin(List_Gare):\n",
    "    legende = []\n",
    "    time, nb_tot, nb_station = simulation(List_Gare)\n",
    "    fig, axes = plt.subplots(nrows=2, ncols=1, figsize=(14,7))\n",
    "    axes[0].plot(time, nb_tot, 'b')\n",
    "    axes[0].set_xlabel(\"temps\")\n",
    "    axes[0].set_ylabel(\"nb de personne au total\")\n",
    "    for i in range(len(nb_station)):\n",
    "        axes[1].plot(time, nb_station[i])\n",
    "        legende.append('gare ' + str(i + 1))\n",
    "    axes[1].legend(legende)\n",
    "    axes[1].set_xlabel(\"temps\")\n",
    "    axes[1].set_ylabel(\"nb de personne par gare\")"
   ]
  },
  {
   "cell_type": "code",
   "execution_count": null,
   "metadata": {
    "collapsed": false
   },
   "outputs": [],
   "source": [
    "List_Gare = []\n",
    "List_Gare.append(Station(ar1, so1,\"gare 1\"))\n",
    "List_Gare.append(Station(ar2, so2, \"gare 2\"))\n",
    "List_Gare[0].next_station(List_Gare[1], ta1, cm)\n",
    "List_Gare[1].next_station(List_Gare[0], ta2, cm)\n",
    "\n",
    "\n",
    "dessin(List_Gare)\n"
   ]
  },
  {
   "cell_type": "code",
   "execution_count": null,
   "metadata": {
    "collapsed": true
   },
   "outputs": [],
   "source": []
  },
  {
   "cell_type": "markdown",
   "metadata": {},
   "source": [
    "## moyenner"
   ]
  },
  {
   "cell_type": "code",
   "execution_count": null,
   "metadata": {
    "collapsed": true
   },
   "outputs": [],
   "source": [
    "ERR_INTERVAL = 1\n",
    "def dessin_err(List_Gare, L_err, time, nb_tot): \n",
    "    legende = []\n",
    "    time_err = [time[i] for i in range(len(time)) if i % ERR_INTERVAL  == 0]\n",
    "    nb_tot_err = [nb_tot[i] for i in range(len(nb_tot)) if i % ERR_INTERVAL == 0]\n",
    "    L_err_min = [L_err[i][0] for i in range(len(L_err)) if i % ERR_INTERVAL == 0]\n",
    "    L_err_max = [L_err[i][1] for i in range(len(L_err)) if i % ERR_INTERVAL == 0]\n",
    "    fig, axes = plt.subplots(nrows=2, ncols=1, figsize=(14,7))\n",
    "    axes[0].plot(time, nb_tot, 'b')\n",
    "    axes[0].errorbar(time_err, nb_tot_err, yerr=[L_err_min, L_err_max], ecolor='r')\n",
    "    axes[0].set_xlabel(\"temps\")\n",
    "    axes[0].set_ylabel(\"nb de personne au total\")\n",
    "    for i in range(len(nb_station)):\n",
    "        axes[1].plot(time, nb_station[i])\n",
    "        legende.append('gare ' + str(i + 1))\n",
    "    axes[1].legend(legende)\n",
    "    axes[1].set_xlabel(\"temps\")\n",
    "    axes[1].set_ylabel(\"nb de personne par gare\")"
   ]
  },
  {
   "cell_type": "code",
   "execution_count": null,
   "metadata": {
    "collapsed": false,
    "scrolled": false
   },
   "outputs": [],
   "source": [
    "time, nb_tot_moy, nb_station_moy = simulation(List_Gare)\n",
    "\n",
    "repet = 100\n",
    "\n",
    "L=[]\n",
    "L.append(nb_tot_moy.copy())\n",
    "#initialisation \n",
    "for j in range(len(nb_tot_moy)):\n",
    "    nb_tot_moy[j] = nb_tot_moy[j] / repet\n",
    "\n",
    "for j in range(len(nb_station_moy)):\n",
    "    for k in range(len(nb_station_moy[j])):\n",
    "        nb_station_moy[j][k] = nb_station_moy[j][k] / repet\n",
    "\n",
    "#recuperation des autre simulation\n",
    "for i in range(repet - 1):\n",
    "    #remise a 0\n",
    "    List_Gare = []\n",
    "    List_Gare.append(Station(ar1, so1,\"gare 1\"))\n",
    "    List_Gare.append(Station(ar2, so2, \"gare 2\"))\n",
    "    List_Gare[0].next_station(List_Gare[1], ta1, cm)\n",
    "    List_Gare[1].next_station(List_Gare[0], ta2, cm)\n",
    "    time, nb_tot, nb_station = simulation(List_Gare)\n",
    "    L.append(nb_tot.copy())\n",
    "    for j in range(len(nb_tot)):\n",
    "        nb_tot_moy[j] += nb_tot[j] / repet\n",
    "    for j in range(len(nb_station)):\n",
    "        for k in range(len(nb_station[j])):\n",
    "            nb_station[j][k] += nb_station[j][k] / repet\n",
    "\n",
    "            \n",
    "L_err = [] # initialisation des barre d'érreur\n",
    "x=0\n",
    "for k in range(len(L[0])):\n",
    "    for i in range(len(L[0])):\n",
    "        for j in range(len(L)-1):\n",
    "            if L[j][k]>L[j+1][k]:\n",
    "                x=L[j][k]\n",
    "                L[j][k]=L[j+1][k]\n",
    "                L[j+1][k]=x\n",
    "    L_err.append([nb_tot_moy[k] - L[round(repet*0.025)][k], L[round(repet*0.975)][k] - nb_tot_moy[k]])\n",
    "\n",
    "    \n",
    "dessin_err(List_Gare, L_err, time, nb_tot)"
   ]
  },
  {
   "cell_type": "markdown",
   "metadata": {
    "collapsed": true
   },
   "source": [
    "## Cas avec 3 gares où les métros font des allers/retours "
   ]
  },
  {
   "cell_type": "code",
   "execution_count": null,
   "metadata": {
    "collapsed": false
   },
   "outputs": [],
   "source": [
    "ar3 = 32\n",
    "so3 = 5\n",
    "ta3 =ta2\n",
    "\n",
    "List_Gare = []\n",
    "\n",
    "List_Gare.append(Station(ar1, so1))\n",
    "List_Gare.append(Station(ar2, so2))\n",
    "List_Gare.append(Station(ar3, so3))\n",
    "\n",
    "List_Gare[0].next_station(List_Gare[1], ta1, cm)\n",
    "List_Gare[1].next_station(List_Gare[0], ta2, cm)\n",
    "List_Gare[1].next_station(List_Gare[2], ta3, cm)\n",
    "List_Gare[2].next_station(List_Gare[1], ta3, cm)\n",
    "\n",
    "\n",
    "dessin(List_Gare)"
   ]
  },
  {
   "cell_type": "code",
   "execution_count": null,
   "metadata": {
    "collapsed": true
   },
   "outputs": [],
   "source": [
    "time, nb_tot_moy, nb_station_moy = simulation(List_Gare)\n",
    "\n",
    "repet = 100 # nb de repetition pour le moyennage.\n",
    "\n",
    "L=[]\n",
    "L.append(nb_tot_moy.copy())\n",
    "#initialisation \n",
    "for j in range(len(nb_tot_moy)):\n",
    "    nb_tot_moy[j] = nb_tot_moy[j] / repet\n",
    "\n",
    "for j in range(len(nb_station)):\n",
    "    for k in range(len(nb_station[j])):\n",
    "        nb_station[j][k] = nb_station[j][k] / repet\n",
    "\n",
    "#recuperation des autre simulation\n",
    "for i in range(repet - 1):\n",
    "    #remise a 0\n",
    "    List_Gare = []\n",
    "    List_Gare.append(Station(ar1, so1,\"gare 1\"))\n",
    "    List_Gare.append(Station(ar2, so2, \"gare 2\"))\n",
    "    List_Gare.append(Station(ar3, so3, \"gare 2\"))\n",
    "    List_Gare[0].next_station(List_Gare[1], ta1, cm)\n",
    "    List_Gare[1].next_station(List_Gare[0], ta2, cm)\n",
    "    List_Gare[1].next_station(List_Gare[2], ta2, cm)\n",
    "    List_Gare[2].next_station(List_Gare[1], ta2, cm)\n",
    "    \n",
    "    \n",
    "    time, nb_tot, nb_station =simulation(List_Gare)\n",
    "    L.append(nb_tot.copy())\n",
    "    for j in range(len(nb_tot)):\n",
    "        nb_tot_moy[j] += nb_tot[j] / repet\n",
    "    for j in range(len(nb_station)):\n",
    "        for k in range(len(nb_station[j])):\n",
    "            nb_station[j][k] += nb_station[j][k] / repet\n",
    "\n",
    "            \n",
    "L_err = []\n",
    "x=0\n",
    "\n",
    "for i in range(len(L[0])):\n",
    "    for j in range(len(L)-1):\n",
    "        if L[j][k]>L[j+1][k]:\n",
    "            x=L[j][k]\n",
    "            L[j][k]=L[j+1][k]\n",
    "            L[j+1][k]=x\n",
    "                \n",
    "for k in range(len(L[0])):\n",
    "    L_err.append([nb_tot_moy[k] - L[round(repet*0.025)][k], L[round(repet*0.975)][k] - nb_tot_moy[k]])\n",
    "\n",
    "    \n",
    "dessin_err(List_Gare, L_err, time, nb_tot)"
   ]
  },
  {
   "cell_type": "code",
   "execution_count": null,
   "metadata": {
    "collapsed": true
   },
   "outputs": [],
   "source": []
  },
  {
   "cell_type": "code",
   "execution_count": null,
   "metadata": {
    "collapsed": true
   },
   "outputs": [],
   "source": []
  },
  {
   "cell_type": "code",
   "execution_count": null,
   "metadata": {
    "collapsed": true
   },
   "outputs": [],
   "source": []
  }
 ],
 "metadata": {
  "kernelspec": {
   "display_name": "Python 3",
   "language": "python",
   "name": "python3"
  },
  "language_info": {
   "codemirror_mode": {
    "name": "ipython",
    "version": 3
   },
   "file_extension": ".py",
   "mimetype": "text/x-python",
   "name": "python",
   "nbconvert_exporter": "python",
   "pygments_lexer": "ipython3",
   "version": "3.4.2"
  }
 },
 "nbformat": 4,
 "nbformat_minor": 1
}
